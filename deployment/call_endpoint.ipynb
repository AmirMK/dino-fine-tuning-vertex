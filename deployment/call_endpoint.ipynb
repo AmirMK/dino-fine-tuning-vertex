{
 "cells": [
  {
   "cell_type": "code",
   "execution_count": 1,
   "id": "fb5ef82f-1a12-4251-b883-e8e43e8eff9c",
   "metadata": {
    "tags": []
   },
   "outputs": [],
   "source": [
    "from google.cloud import aiplatform\n",
    "import base64"
   ]
  },
  {
   "cell_type": "code",
   "execution_count": 2,
   "id": "6b5b1fd6-b4b2-4e08-a55c-bb5d5396b7ce",
   "metadata": {
    "tags": []
   },
   "outputs": [],
   "source": [
    "PROJECT_ID = \"vertex-ai-search-v2\"  #YOUR_PROJECT_ID\n",
    "LOCATION = \"us-central1\" #YOUR_LOCATION\n",
    "ENDPOINT_ID = \"6440045212558426112\" #YOUR_DEPLOYED_ENDPOINT\n",
    "\n",
    "client = aiplatform.gapic.PredictionServiceClient(\n",
    "        client_options={\"api_endpoint\": f\"{LOCATION}-aiplatform.googleapis.com\"}\n",
    "    )\n",
    "endpoint = client.endpoint_path(project=PROJECT_ID, location=LOCATION, endpoint=ENDPOINT_ID)"
   ]
  },
  {
   "cell_type": "code",
   "execution_count": 3,
   "id": "e7501d74-0635-4377-bb49-37cd3d76bcbe",
   "metadata": {
    "tags": []
   },
   "outputs": [
    {
     "name": "stdout",
     "output_type": "stream",
     "text": [
      "[-0.02782329916954041, 0.04879548400640488, -0.03926141560077667, 0.005801411811262369, -0.002799005247652531]\n"
     ]
    }
   ],
   "source": [
    "# Prediction for image from GCS\n",
    "GCS_IMAGE_URI = \"gs://my_dino_test/p8768802_v_h8_ap.jpg\" #GCS URL to the image\n",
    "instances = [{\"gcs_uri\": GCS_IMAGE_URI}]\n",
    "\n",
    "response = client.predict(\n",
    "        endpoint=endpoint,\n",
    "        instances=instances\n",
    "    )\n",
    "\n",
    "embedding = response.predictions[0]['embedding']\n",
    "\n",
    "embedding = list(embedding)\n",
    "print(embedding[:5])"
   ]
  },
  {
   "cell_type": "code",
   "execution_count": 4,
   "id": "deaaaecb-57f7-4f03-94f5-7dedfc885247",
   "metadata": {
    "tags": []
   },
   "outputs": [
    {
     "name": "stdout",
     "output_type": "stream",
     "text": [
      "[0.07987766712903976, -0.07884481549263, 0.04843398556113243, -0.01510822121053934, -0.05680939927697182]\n"
     ]
    }
   ],
   "source": [
    "# Prediction for a local image \n",
    "\n",
    "IMAGE_PATH = \"test.jpg\" #image location on you local machine\n",
    "\n",
    "# --- Encode image as base64 ---\n",
    "with open(IMAGE_PATH, \"rb\") as f:\n",
    "    image_bytes = f.read()\n",
    "image_bytes_base64 = base64.b64encode(image_bytes).decode(\"utf-8\")  # <-- decode to str\n",
    "\n",
    "instances = [{\"bytes_base64\": image_bytes_base64}]\n",
    "\n",
    "response = client.predict(\n",
    "        endpoint=endpoint,\n",
    "        instances=instances\n",
    "    )\n",
    "\n",
    "embedding = response.predictions[0]['embedding']\n",
    "\n",
    "embedding = list(embedding)\n",
    "print(embedding[:5])"
   ]
  },
  {
   "cell_type": "code",
   "execution_count": null,
   "id": "3f4e01d7-2bc1-4fb7-b143-79705c35f6d3",
   "metadata": {},
   "outputs": [],
   "source": []
  }
 ],
 "metadata": {
  "environment": {
   "kernel": "conda-base-py",
   "name": "workbench-notebooks.m131",
   "type": "gcloud",
   "uri": "us-docker.pkg.dev/deeplearning-platform-release/gcr.io/workbench-notebooks:m131"
  },
  "kernelspec": {
   "display_name": "Python 3 (ipykernel) (Local)",
   "language": "python",
   "name": "conda-base-py"
  },
  "language_info": {
   "codemirror_mode": {
    "name": "ipython",
    "version": 3
   },
   "file_extension": ".py",
   "mimetype": "text/x-python",
   "name": "python",
   "nbconvert_exporter": "python",
   "pygments_lexer": "ipython3",
   "version": "3.10.18"
  }
 },
 "nbformat": 4,
 "nbformat_minor": 5
}
